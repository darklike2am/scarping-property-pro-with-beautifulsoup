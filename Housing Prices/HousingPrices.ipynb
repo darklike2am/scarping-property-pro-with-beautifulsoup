{
 "cells": [
  {
   "cell_type": "code",
   "execution_count": 1,
   "id": "e05d4031",
   "metadata": {},
   "outputs": [],
   "source": [
    "import requests #import requests\n",
    "from bs4 import BeautifulSoup #import BeautifulSoup\n",
    "import numpy as np\n",
    "import pandas as pd\n",
    "url=('https://www.propertypro.ng/property-for-rent?search=Lagos+Island&auto=&type=&bedroom=&min_price=&max_price=')"
   ]
  },
  {
   "cell_type": "code",
   "execution_count": 2,
   "id": "feacdb2d",
   "metadata": {},
   "outputs": [],
   "source": [
    "pages =requests.get(url) #use requests to access the page's source code\n",
    "soup =BeautifulSoup(pages.text, 'html.parser') #Store page's source code in variable named soup"
   ]
  },
  {
   "cell_type": "code",
   "execution_count": 3,
   "id": "48c1372e",
   "metadata": {},
   "outputs": [
    {
     "data": {
      "text/plain": [
       "22"
      ]
     },
     "execution_count": 3,
     "metadata": {},
     "output_type": "execute_result"
    }
   ],
   "source": [
    "titles=soup.select('.listings-property-title')\n",
    "len(titles)"
   ]
  },
  {
   "cell_type": "code",
   "execution_count": 4,
   "id": "d4bbb1be",
   "metadata": {},
   "outputs": [
    {
     "data": {
      "text/plain": [
       "22"
      ]
     },
     "execution_count": 4,
     "metadata": {},
     "output_type": "execute_result"
    }
   ],
   "source": [
    "title_list=[]\n",
    "for title in titles:\n",
    "    title_list.append(title.get_text())\n",
    "len(title_list)"
   ]
  },
  {
   "cell_type": "code",
   "execution_count": 5,
   "id": "897d7b7c",
   "metadata": {},
   "outputs": [
    {
     "data": {
      "text/plain": [
       "22"
      ]
     },
     "execution_count": 5,
     "metadata": {},
     "output_type": "execute_result"
    }
   ],
   "source": [
    "locations=soup.select('.single-room-text>h4')\n",
    "len(locations)"
   ]
  },
  {
   "cell_type": "code",
   "execution_count": 6,
   "id": "8682c050",
   "metadata": {},
   "outputs": [
    {
     "data": {
      "text/plain": [
       "22"
      ]
     },
     "execution_count": 6,
     "metadata": {},
     "output_type": "execute_result"
    }
   ],
   "source": [
    "location_list=[]\n",
    "for location in locations:\n",
    "    location_list.append(location.get_text())\n",
    "len(location_list)"
   ]
  },
  {
   "cell_type": "code",
   "execution_count": 7,
   "id": "026f8a65",
   "metadata": {},
   "outputs": [
    {
     "data": {
      "text/plain": [
       "66"
      ]
     },
     "execution_count": 7,
     "metadata": {},
     "output_type": "execute_result"
    }
   ],
   "source": [
    "bedrooms=soup.select('.fur-areea>span')\n",
    "len(bedrooms)"
   ]
  },
  {
   "cell_type": "code",
   "execution_count": 8,
   "id": "4eb2a55d",
   "metadata": {},
   "outputs": [
    {
     "data": {
      "text/plain": [
       "22"
      ]
     },
     "execution_count": 8,
     "metadata": {},
     "output_type": "execute_result"
    }
   ],
   "source": [
    "bedroom_each=[]\n",
    "for bedroom in bedrooms:\n",
    "    bedroom_each.append(bedroom.get_text())\n",
    "bedroom_array=np.array(bedroom_each).reshape(22,3)\n",
    "bedroom_list=bedroom_array[:22,0]\n",
    "bedroom_list=bedroom_list.tolist()\n",
    "len(bedroom_list)"
   ]
  },
  {
   "cell_type": "code",
   "execution_count": 9,
   "id": "54e2b599",
   "metadata": {},
   "outputs": [
    {
     "data": {
      "text/plain": [
       "22"
      ]
     },
     "execution_count": 9,
     "metadata": {},
     "output_type": "execute_result"
    }
   ],
   "source": [
    "bathroom_list=bedroom_array[:22,1]\n",
    "bathroom_list=bathroom_list.tolist()\n",
    "len(bathroom_list)"
   ]
  },
  {
   "cell_type": "code",
   "execution_count": 10,
   "id": "64e3a629",
   "metadata": {},
   "outputs": [
    {
     "data": {
      "text/plain": [
       "22"
      ]
     },
     "execution_count": 10,
     "metadata": {},
     "output_type": "execute_result"
    }
   ],
   "source": [
    "toilet_list=bedroom_array[:22,2]\n",
    "toilet_list=toilet_list.tolist()\n",
    "len(toilet_list)"
   ]
  },
  {
   "cell_type": "code",
   "execution_count": 11,
   "id": "419f89e8",
   "metadata": {},
   "outputs": [
    {
     "data": {
      "text/plain": [
       "44"
      ]
     },
     "execution_count": 11,
     "metadata": {},
     "output_type": "execute_result"
    }
   ],
   "source": [
    "rents=soup.select('h3>span')\n",
    "len(rents)"
   ]
  },
  {
   "cell_type": "code",
   "execution_count": 12,
   "id": "a9333d4a",
   "metadata": {},
   "outputs": [
    {
     "data": {
      "text/plain": [
       "['14,000,000/year',\n",
       " '12,000,000/year',\n",
       " '8,500,000',\n",
       " '13,000,000',\n",
       " '18,000,000/year',\n",
       " '11,000,000/year',\n",
       " '10,000,000/year',\n",
       " '10,000,000/year',\n",
       " '28,000,000/year',\n",
       " '15,000,000/year',\n",
       " '135,000,000',\n",
       " '12,000,000/year',\n",
       " '30,000,000/year',\n",
       " '50,000,000/year',\n",
       " '2,500,000/year',\n",
       " '11,000,000/year',\n",
       " '14,000,000/year',\n",
       " '9,000,000/year',\n",
       " '12,000,000/year',\n",
       " '10,000,000/year',\n",
       " '7,500,000/year',\n",
       " '10,000,000/year']"
      ]
     },
     "execution_count": 12,
     "metadata": {},
     "output_type": "execute_result"
    }
   ],
   "source": [
    "rents_each=[]\n",
    "for rent in rents:\n",
    "    rents_each.append(rent.get_text())\n",
    "    rents_array=np.array(rents_each)\n",
    "rents_array=rents_array.reshape(22,2)\n",
    "rent_list=rents_array[:22,1]\n",
    "rent_list=rent_list.tolist()\n",
    "rent_list"
   ]
  },
  {
   "cell_type": "code",
   "execution_count": 13,
   "id": "2d99ee93",
   "metadata": {},
   "outputs": [],
   "source": [
    "agents=soup.select('.phone-icon')"
   ]
  },
  {
   "cell_type": "code",
   "execution_count": 14,
   "id": "4de19a7a",
   "metadata": {},
   "outputs": [
    {
     "data": {
      "text/plain": [
       "22"
      ]
     },
     "execution_count": 14,
     "metadata": {},
     "output_type": "execute_result"
    }
   ],
   "source": [
    "agent_list=[]\n",
    "for agent in agents:\n",
    "    agent_list.append(agent.get_text())\n",
    "for i in agent_list:\n",
    "    i.replace('\\n','')\n",
    "\n",
    "len(agent_list)"
   ]
  },
  {
   "cell_type": "code",
   "execution_count": 20,
   "id": "66836610",
   "metadata": {},
   "outputs": [],
   "source": [
    "def scrape_page():\n",
    "    property=pd.DataFrame({\"Title\":title_list, \"Location\":location_list, \"Bedrooms\":bedroom_list, \"Toilet\":toilet_list, \"Rent\":rent_list, \"Agent\":agent_list})\n",
    "    prop=property.to_csv('housingfile.csv', mode='a', header=False)\n",
    "    df=pd.read_csv('housingfile.csv')\n",
    "    return df"
   ]
  },
  {
   "cell_type": "code",
   "execution_count": 21,
   "id": "47eb3857",
   "metadata": {},
   "outputs": [
    {
     "data": {
      "text/html": [
       "<div>\n",
       "<style scoped>\n",
       "    .dataframe tbody tr th:only-of-type {\n",
       "        vertical-align: middle;\n",
       "    }\n",
       "\n",
       "    .dataframe tbody tr th {\n",
       "        vertical-align: top;\n",
       "    }\n",
       "\n",
       "    .dataframe thead th {\n",
       "        text-align: right;\n",
       "    }\n",
       "</style>\n",
       "<table border=\"1\" class=\"dataframe\">\n",
       "  <thead>\n",
       "    <tr style=\"text-align: right;\">\n",
       "      <th></th>\n",
       "      <th>Unnamed: 0</th>\n",
       "      <th>Title</th>\n",
       "      <th>Location</th>\n",
       "      <th>Bedrooms</th>\n",
       "      <th>Toilet</th>\n",
       "      <th>Rent</th>\n",
       "      <th>Agent</th>\n",
       "    </tr>\n",
       "  </thead>\n",
       "  <tbody>\n",
       "    <tr>\n",
       "      <th>0</th>\n",
       "      <td>0</td>\n",
       "      <td>4 BEDROOM HOUSE FOR RENT</td>\n",
       "      <td>Old Ikoyi Ikoyi Lagos</td>\n",
       "      <td>4 beds</td>\n",
       "      <td>5 Toilets</td>\n",
       "      <td>14,000,000/year</td>\n",
       "      <td>8124269637</td>\n",
       "    </tr>\n",
       "    <tr>\n",
       "      <th>1</th>\n",
       "      <td>1</td>\n",
       "      <td>3 BEDROOM HOUSE FOR RENT</td>\n",
       "      <td>Banana Island Ikoyi Lagos</td>\n",
       "      <td>3 beds</td>\n",
       "      <td>4 Toilets</td>\n",
       "      <td>12,000,000/year</td>\n",
       "      <td>8082163583</td>\n",
       "    </tr>\n",
       "    <tr>\n",
       "      <th>2</th>\n",
       "      <td>2</td>\n",
       "      <td>2 BEDROOM FLAT / APARTMENT FOR RENT</td>\n",
       "      <td>Banana Island Ikoyi Lagos</td>\n",
       "      <td>2 beds</td>\n",
       "      <td>2 Toilets</td>\n",
       "      <td>8,500,000</td>\n",
       "      <td>9072600490</td>\n",
       "    </tr>\n",
       "    <tr>\n",
       "      <th>3</th>\n",
       "      <td>3</td>\n",
       "      <td>3 BEDROOM FLAT / APARTMENT FOR RENT</td>\n",
       "      <td>Banana Island Ikoyi Lagos</td>\n",
       "      <td>3 beds</td>\n",
       "      <td>4 Toilets</td>\n",
       "      <td>13,000,000</td>\n",
       "      <td>9072600490</td>\n",
       "    </tr>\n",
       "    <tr>\n",
       "      <th>4</th>\n",
       "      <td>4</td>\n",
       "      <td>3 BEDROOM FLAT / APARTMENT FOR RENT</td>\n",
       "      <td>Banana Island Ikoyi Lagos</td>\n",
       "      <td>3 beds</td>\n",
       "      <td>4 Toilets</td>\n",
       "      <td>18,000,000/year</td>\n",
       "      <td>7057302511</td>\n",
       "    </tr>\n",
       "    <tr>\n",
       "      <th>...</th>\n",
       "      <td>...</td>\n",
       "      <td>...</td>\n",
       "      <td>...</td>\n",
       "      <td>...</td>\n",
       "      <td>...</td>\n",
       "      <td>...</td>\n",
       "      <td>...</td>\n",
       "    </tr>\n",
       "    <tr>\n",
       "      <th>61</th>\n",
       "      <td>17</td>\n",
       "      <td>4 BEDROOM HOUSE FOR RENT</td>\n",
       "      <td>Oniru Victoria Island Lagos</td>\n",
       "      <td>4 beds</td>\n",
       "      <td>5 Toilets</td>\n",
       "      <td>9,000,000/year</td>\n",
       "      <td>9035137760</td>\n",
       "    </tr>\n",
       "    <tr>\n",
       "      <th>62</th>\n",
       "      <td>18</td>\n",
       "      <td>3 BEDROOM FLAT / APARTMENT FOR RENT</td>\n",
       "      <td>Banana Island Ikoyi Lagos</td>\n",
       "      <td>3 beds</td>\n",
       "      <td>4 Toilets</td>\n",
       "      <td>12,000,000/year</td>\n",
       "      <td>8098000359</td>\n",
       "    </tr>\n",
       "    <tr>\n",
       "      <th>63</th>\n",
       "      <td>19</td>\n",
       "      <td>3 BEDROOM HOUSE FOR RENT</td>\n",
       "      <td>Victoria Island Lagos</td>\n",
       "      <td>3 beds</td>\n",
       "      <td>4 Toilets</td>\n",
       "      <td>10,000,000/year</td>\n",
       "      <td>9035137760</td>\n",
       "    </tr>\n",
       "    <tr>\n",
       "      <th>64</th>\n",
       "      <td>20</td>\n",
       "      <td>3 BEDROOM HOUSE FOR RENT</td>\n",
       "      <td>Oniru Victoria Island Lagos</td>\n",
       "      <td>3 beds</td>\n",
       "      <td>4 Toilets</td>\n",
       "      <td>7,500,000/year</td>\n",
       "      <td>9035137760</td>\n",
       "    </tr>\n",
       "    <tr>\n",
       "      <th>65</th>\n",
       "      <td>21</td>\n",
       "      <td>4 BEDROOM HOUSE FOR RENT</td>\n",
       "      <td>Oniru Victoria Island Lagos</td>\n",
       "      <td>4 beds</td>\n",
       "      <td>5 Toilets</td>\n",
       "      <td>10,000,000/year</td>\n",
       "      <td>9035137760</td>\n",
       "    </tr>\n",
       "  </tbody>\n",
       "</table>\n",
       "<p>66 rows × 7 columns</p>\n",
       "</div>"
      ],
      "text/plain": [
       "    Unnamed: 0                                Title  \\\n",
       "0            0             4 BEDROOM HOUSE FOR RENT   \n",
       "1            1             3 BEDROOM HOUSE FOR RENT   \n",
       "2            2  2 BEDROOM FLAT / APARTMENT FOR RENT   \n",
       "3            3  3 BEDROOM FLAT / APARTMENT FOR RENT   \n",
       "4            4  3 BEDROOM FLAT / APARTMENT FOR RENT   \n",
       "..         ...                                  ...   \n",
       "61          17             4 BEDROOM HOUSE FOR RENT   \n",
       "62          18  3 BEDROOM FLAT / APARTMENT FOR RENT   \n",
       "63          19             3 BEDROOM HOUSE FOR RENT   \n",
       "64          20             3 BEDROOM HOUSE FOR RENT   \n",
       "65          21             4 BEDROOM HOUSE FOR RENT   \n",
       "\n",
       "                       Location Bedrooms     Toilet             Rent  \\\n",
       "0         Old Ikoyi Ikoyi Lagos   4 beds  5 Toilets  14,000,000/year   \n",
       "1     Banana Island Ikoyi Lagos   3 beds  4 Toilets  12,000,000/year   \n",
       "2     Banana Island Ikoyi Lagos   2 beds  2 Toilets        8,500,000   \n",
       "3     Banana Island Ikoyi Lagos   3 beds  4 Toilets       13,000,000   \n",
       "4     Banana Island Ikoyi Lagos   3 beds  4 Toilets  18,000,000/year   \n",
       "..                          ...      ...        ...              ...   \n",
       "61  Oniru Victoria Island Lagos   4 beds  5 Toilets   9,000,000/year   \n",
       "62    Banana Island Ikoyi Lagos   3 beds  4 Toilets  12,000,000/year   \n",
       "63        Victoria Island Lagos   3 beds  4 Toilets  10,000,000/year   \n",
       "64  Oniru Victoria Island Lagos   3 beds  4 Toilets   7,500,000/year   \n",
       "65  Oniru Victoria Island Lagos   4 beds  5 Toilets  10,000,000/year   \n",
       "\n",
       "         Agent  \n",
       "0   8124269637  \n",
       "1   8082163583  \n",
       "2   9072600490  \n",
       "3   9072600490  \n",
       "4   7057302511  \n",
       "..         ...  \n",
       "61  9035137760  \n",
       "62  8098000359  \n",
       "63  9035137760  \n",
       "64  9035137760  \n",
       "65  9035137760  \n",
       "\n",
       "[66 rows x 7 columns]"
      ]
     },
     "execution_count": 21,
     "metadata": {},
     "output_type": "execute_result"
    }
   ],
   "source": [
    "scrape_page()"
   ]
  },
  {
   "cell_type": "code",
   "execution_count": null,
   "id": "5594dc85",
   "metadata": {},
   "outputs": [],
   "source": []
  }
 ],
 "metadata": {
  "kernelspec": {
   "display_name": "Python 3 (ipykernel)",
   "language": "python",
   "name": "python3"
  },
  "language_info": {
   "codemirror_mode": {
    "name": "ipython",
    "version": 3
   },
   "file_extension": ".py",
   "mimetype": "text/x-python",
   "name": "python",
   "nbconvert_exporter": "python",
   "pygments_lexer": "ipython3",
   "version": "3.9.7"
  }
 },
 "nbformat": 4,
 "nbformat_minor": 5
}
